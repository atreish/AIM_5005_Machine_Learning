{
 "cells": [
  {
   "cell_type": "markdown",
   "metadata": {},
   "source": [
    "# Final project\n",
    "\n",
    "\n",
    "You are a team of data scientists and ML engineers working for a recipe website.\n",
    "\n",
    "Every day your website receives recipe submissions from users. The recipes are analyzed by a lab to ascertain their nutritional content. Then the recipe is posted on your website along with its nutrition information.  Your company makes money by running ads along with the recipes.\n",
    "\n",
    "Recently, ad space on high-protein receipes has been in high demand, so the company is interested in maximizing the use of the high-protein recipes that users submit. The problem is that the lab generally can't analyze recipes as quickly as they are submitted, so their queue is always full.\n",
    "\n",
    "The good news is that the lab will let you push recipes to the front of the queue so that they will get processed sooner.  If you suspect a recipe will, after analysis, be labeled \"high protein\", then it would be a good idea to push it to the front of the queue.\n",
    "\n",
    "Your team's job is to build a model that predicts whether a recipe is high protein based on features of the recipe (ex., the ingredients). Each new recipe will be presented to your model. If you model predicts that it will be high protein, then that receipe will be pushed to the front of the lab's queue. Otherwise it will be pushed to the back ofthe lab's queue."
   ]
  },
  {
   "cell_type": "markdown",
   "metadata": {},
   "source": [
    "# Data\n",
    "\n",
    "The data set is available under Module 8 as `final_data_set.csv`. The data are from recipes that have already been analyzed by the lab. The columns labeled `calories` and `protein` are the lab's output. We'll say that a recipe is \"high protein\" if `protein / calories > .10`.  All of the other columns are features of the recipe.\n",
    "\n",
    "The ordering of the rows is immaterial."
   ]
  },
  {
   "cell_type": "markdown",
   "metadata": {},
   "source": [
    "# Model\n",
    "\n",
    "Your model should predict whether a recipe is high protein based on the recipe's features.\n",
    "\n",
    "\n",
    "As you develop your model, be sure to justify each decision you make."
   ]
  },
  {
   "cell_type": "markdown",
   "metadata": {},
   "source": [
    "# Dollars\n",
    "\n",
    "Predictions are great -- as a starting point. But no business ever got to IPO by saying, \"We have the best mean-squared-error in our industry!\" Instead, businesses survive and thrive by earning money.\n",
    "\n",
    "Since your team is part of a business, you'll need to understand the dollar value of your model: How much more money could your company earn if they deployed your model?\n",
    "\n",
    "Fortunately, you have a simulator that can turn model predictions into ad revenue estimates. The simulator simulates\n",
    "- the users' recipe submissions\n",
    "- pushing recipes onto the front or back of the lab's queue based on your model's predictions\n",
    "- the lab's daily recipe analysis\n",
    "- daily ad revenue from high- and low- protein ads\n",
    "\n",
    "The simulator's not perfect, but it can used to evaluate your model is dollar terms. Doing this can help compare the value of your model to the value of other teams' efforts to improve the business -- whether they are building models, writing code, selling ads, designing web pages, or doing whatever else makes your business work.\n",
    "\n",
    "The input to the simulator is `hp_predictions_and_actuals`, a list of tuples `(prediction, actual)`. `actual` should be 1 if the recipe is high protein and 0 if the recipe is not high protein. `prediction` should be your model's prediction of `actual`, based on a recipe's features. (N.B.: `simulate()` doesn't use the recipe's features.)\n",
    "\n",
    "`hp_predictions_and_actuals` might look like:\n",
    "```\n",
    "hp_predictions_and_actuals = [\n",
    "    (1, 1),  # predict high-protein, actually high-protein\n",
    "    (0, 1),  # predict low-protein, actually high-protein\n",
    "    (0, 0),  # predict low-protein, actually low-protein\n",
    "    (1, 1),  # predict high-protein, actually high-protein\n",
    "    .\n",
    "    .\n",
    "    .\n",
    "]\n",
    "```\n",
    "\n",
    "You could construct `hp_predictions_and_actuals` with `hp_predictions_and_actuals = list(zip(predictions, actuals))` if you had a list (or an ndarray or a Pandas Series) of predictions and another of actuals.\n",
    "\n",
    "To use `simulate()`, you'll probably create one entry in `hp_predictions_and_actuals` for each row in the data frame then call `simulate(hp_predictions_and_actuals)`. This call will return an estimate of one year's revenue.  Please see the comments in `simulate()` for more information.\n",
    "\n",
    "Evaluate your model in dollar terms using `simulate()`. `simulate()`'s output is a random variable, so please report the standard error of your model's dollar value, too.\n",
    "- How much better is your model than random guessing?\n",
    "- How much worse is your model than the best possible model? (Hint: What would be the predictions of the best possible model?)"
   ]
  },
  {
   "cell_type": "code",
   "execution_count": null,
   "metadata": {},
   "outputs": [],
   "source": [
    "def simulate(hp_predictions_and_actuals):\n",
    "    high_protein_ad_revenue = 1\n",
    "    low_protein_ad_revenue = .25\n",
    "    \n",
    "    ad_revenue = 0\n",
    "    analysis_queue = []\n",
    "    active_recipes = []\n",
    "    i_data = 0\n",
    "    for _ in range(365):  # for one year\n",
    "        # 50-100 recipe submissions/day\n",
    "        num_submissions = np.random.randint(50, 100)\n",
    "        for __ in range(num_submissions): # \n",
    "            if i_data < len(hp_predictions_and_actuals):\n",
    "                p, a = hp_predictions_and_actuals[i_data]\n",
    "                if p == 1:  # go to the front of the queue\n",
    "                    analysis_queue.insert(0, a)\n",
    "                else: # go to the back of the queue\n",
    "                    analysis_queue.append(a)\n",
    "                i_data += 1\n",
    "            \n",
    "        # can analyze only 25 recipes/day   \n",
    "        for __ in range(25):\n",
    "            if len(analysis_queue)==0:\n",
    "                break\n",
    "            acutal = analysis_queue.pop(0)\n",
    "            active_recipes.append(acutal)\n",
    "                          \n",
    "        # run 500-1000 ads/day\n",
    "        num_ads_today = np.random.randint(500, 1000)\n",
    "        for a in random.choices(active_recipes, k=num_ads_today):\n",
    "            # a==1 if recipe is high protein\n",
    "            if a==1:\n",
    "                ad_revenue += high_protein_ad_revenue\n",
    "            else:\n",
    "                ad_revenue += low_protein_ad_revenue\n",
    "    \n",
    "    return ad_revenue"
   ]
  },
  {
   "cell_type": "markdown",
   "metadata": {},
   "source": [
    "# Presentation\n",
    "\n",
    "Your team will give a 20 minute presentation in class. (Note: The syllabus said 30 minutes. Make it 20.) \n",
    "\n",
    "Your presentation should explain your process of building and evaluating your model, inform us of the expected dollar impact on the business, and provide justification for your claims."
   ]
  },
  {
   "cell_type": "markdown",
   "metadata": {},
   "source": [
    "# Model evaluation\n",
    "\n",
    "Your model will be evaluated on a held-out (and hidden) set of data using `simulate()`.\n",
    "\n",
    "For this purpose, please supply a Python function that implements your model with this signature:\n",
    "```\n",
    "def predict(df):\n",
    "```\n",
    "`predict()` should return a list (or ndarray or Pandas Series) of predictions, one for each row of the input dataframe, `df`.  `df` will look just like the dataframe in `final_data_set.csv`, except the columns `calories` and `protein` will be absent.\n",
    "\n",
    "There are two parts to the evaluation:\n",
    "\n",
    "1. Does your model do better than random guessing?\n",
    "2. Does your model do better than the other team's model?\n",
    "\n",
    "For part (2): I will run an A/B test to compare the two teams' models on `simulate()`'s output on the held-out data set. The team whose model performs better wins. Each member of the winning team gets to drop their lowest homework grade."
   ]
  },
  {
   "cell_type": "markdown",
   "metadata": {},
   "source": [
    "# Tips\n",
    "\n",
    "Some techniques that might be helpful:\n",
    "\n",
    "- linear regression\n",
    "- logistic / GLM regression\n",
    "- hypothesis testing\n",
    "- regularization, including hyperparameter tuning\n",
    "- bootstrap sampling\n",
    "- data transformations / feature engineering\n",
    "- ask your instructor for clarification when you think you need it\n",
    "\n",
    "You might not need all of them. Also, you might find techniques to be helpful that are not listed.\n",
    "\n"
   ]
  },
  {
   "cell_type": "markdown",
   "metadata": {},
   "source": [
    "# Notes\n",
    "\n",
    "- Each team should submit a single Jupyter notebook.\n",
    "- The notebook must contain the `predict()` function.\n",
    "- There will be two teams, one will 3 students and one with 4 students."
   ]
  },
  {
   "cell_type": "code",
   "execution_count": null,
   "metadata": {},
   "outputs": [],
   "source": []
  }
 ],
 "metadata": {
  "kernelspec": {
   "display_name": "Python 3",
   "language": "python",
   "name": "python3"
  },
  "language_info": {
   "codemirror_mode": {
    "name": "ipython",
    "version": 3
   },
   "file_extension": ".py",
   "mimetype": "text/x-python",
   "name": "python",
   "nbconvert_exporter": "python",
   "pygments_lexer": "ipython3",
   "version": "3.6.3"
  }
 },
 "nbformat": 4,
 "nbformat_minor": 2
}
